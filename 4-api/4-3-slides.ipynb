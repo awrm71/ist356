{
 "cells": [
  {
   "cell_type": "markdown",
   "metadata": {},
   "source": [
    "# API 4-3: REST APIs\n",
    "\n",
    "Open AI, LLM API's, OAUTH2 Flows"
   ]
  },
  {
   "cell_type": "markdown",
   "metadata": {},
   "source": [
    "## Open AI API\n",
    "\n",
    "\n",
    "Artifical Intelligence has become more accessible thanks to REST API's. It is not possible to run most of these models on your local machine due to the computational power required. Companies like Open AI, Anthropic, and Perplexity have made it possible to access their models through Web API's. This has opened up a new world of possibilities for developers to build applications that can understand and generate human-like text, create art / music, and solve puzzles.\n",
    "\n",
    "In this course will use Open AI's API to demonstrate some of these capabilities. \n",
    "\n",
    "We will use the Open AI API in the IoT Portal. This will allow you to use the API without having to pay for it.\n",
    "\n",
    "\n",
    "## Text Generation\n",
    "\n",
    "- Text generation is the process of generating text using a model that has been trained on a large corpus of text. We provide the model a **text prompt** consisting of a question, insructions, examples, or both. The model then generates a response based on the prompt."
   ]
  },
  {
   "cell_type": "code",
   "execution_count": 2,
   "metadata": {},
   "outputs": [
    {
     "name": "stdout",
     "output_type": "stream",
     "text": [
      "I can assist with a variety of tasks, including:\n",
      "\n",
      "1. **Information Retrieval:** Providing explanations, summaries, and answers to questions across a wide range of topics.\n",
      "2. **Writing Assistance:** Helping with writing tasks such as essays, reports, creative writing, and editing.\n",
      "3. **Language Translation:** Translating text between different languages.\n",
      "4. **Coding Help:** Assisting with programming questions, debugging, and providing code examples.\n",
      "5. **Problem-Solving:** Offering solutions to mathematical and scientific problems.\n",
      "6. **Learning Support:** Assisting with study techniques, summarizing concepts, and providing practice questions.\n",
      "7. **Recommendations:** Suggesting books, movies, or resources based on your interests.\n",
      "8. **Conversation:** Engaging in general discussions on various topics.\n",
      "\n",
      "If you have a specific task in mind, feel free to ask!\n"
     ]
    }
   ],
   "source": [
    "import requests\n",
    "\n",
    "api_key = \"bdde3a191448e3810f521061\"\n",
    "uri = \"https://cent.ischool-iot.net/api/openai/generate\"\n",
    "prompt = \"What are your capabilities?\"\n",
    "\n",
    "data = { \"query\": prompt }\n",
    "response = requests.post(uri, data=data, headers={\"x-api-key\": api_key})\n",
    "response.raise_for_status()\n",
    "result = response.json()\n",
    "print(result)\n",
    "\n",
    "\n"
   ]
  },
  {
   "cell_type": "markdown",
   "metadata": {},
   "source": [
    "## What is Going On Here?\n",
    "\n",
    "Open AI is a Large Language Model. It is capable of generating text based on a prompt. While it might appear smart or intelligent, it is important to remember that it is just codethat has been trained on a huge large corpus of text. The model does not have any understanding of the world or the text it generates, its just generating output based on the input and the text is was trained on!\n",
    "\n",
    "\n",
    "## Large Language Model Capabilities\n",
    "\n",
    "- **Question Answering**: Ask a question and the model will generate an answer (provided its in the corpus).\n",
    "- **Text Completion**: Provide a sentence and the model will complete it.\n",
    "- **Text Summarization**: Provide a prompt and the model will summarize the text.\n",
    "- **Text Classification**: Provide a prompt and the model will classify the text.\n",
    "- **Text Translation**: Provide a prompt and the model will translate the text.\n",
    "- **Text Sentiment Analysis**: Provide a prompt and the model will analyze the sentiment of the text."
   ]
  },
  {
   "cell_type": "code",
   "execution_count": 6,
   "metadata": {},
   "outputs": [
    {
     "name": "stdout",
     "output_type": "stream",
     "text": [
      "QUESTION-ANSWERING: What is the capital of France? ==> The capital of France is Paris.\n",
      "\n",
      "\n",
      "TEXT-COMPLETION: Finish this sentence: 'Once upon a time _____' ==> Once upon a time, in a village nestled between towering mountains and shimmering lakes, there lived a curious child named Elara who dreamed of adventures beyond the horizon.\n",
      "\n",
      "\n",
      "TEXT-SUMMARIZATION: Explain this: 'The best revenge is to be unlike him who performed the injury.' ==> The phrase \"The best revenge is to be unlike him who performed the injury\" suggests that the most effective way to respond to someone who has wronged you is not to retaliate in kind, but rather to rise above their behavior. Instead of seeking revenge or acting out of anger, the idea is to maintain your integrity and character.\n",
      "\n",
      "By choosing to be different from the person who harmed you, you demonstrate moral strength and resilience. This approach not only prevents you from becoming consumed by negativity but also highlights the contrast between your positive behavior and their harmful actions. Ultimately, it emphasizes the importance of personal growth and self-respect over vengeance.\n",
      "\n",
      "\n",
      "TEXT-CLASSIFICATION: New York is to Yankees as Boston is to _______ ==> Red Sox.\n",
      "\n",
      "\n",
      "TEXT-SENTIMENT: Is this a positive or negative review? 'I loved this movie even tho it scared me!' ==> This is a positive review. The reviewer expresses love for the movie, even acknowledging that it scared them, which suggests they appreciated the experience overall.\n",
      "\n",
      "\n",
      "TEXT-TRANSLATION: Translate this to French: 'Hello, how are you?' ==> \"Bonjour, comment ça va ?\"\n",
      "\n",
      "\n"
     ]
    }
   ],
   "source": [
    "import requests\n",
    "\n",
    "api_key = \"bdde3a191448e3810f521061\"\n",
    "uri = \"https://cent.ischool-iot.net/api/openai/generate\"\n",
    "\n",
    "prompts = {\n",
    "    \"question-answering\" : \"What is the capital of France?\",\n",
    "    \"text-completion\" : \"Finish this sentence: 'Once upon a time _____'\",\n",
    "    \"text-summarization\" : \"Explain this: 'The best revenge is to be unlike him who performed the injury.'\",\n",
    "    \"text-classification\" : \"New York is to Yankees as Boston is to _______\",\n",
    "    \"text-sentiment\": \"Is this a positive or negative review? 'I loved this movie even tho it scared me!'\",\n",
    "    \"text-translation\": \"Translate this to French: 'Hello, how are you?'\"\n",
    "}\n",
    "\n",
    "\n",
    "for key, value in prompts.items():\n",
    "    data = {\"query\": value}\n",
    "    response = requests.post(uri, data=data, headers={\"x-api-key\": api_key})\n",
    "    response.raise_for_status()\n",
    "    result = response.json()\n",
    "    print(f\"{key.upper()}: {value} ==> {result}\\n\\n\")\n"
   ]
  },
  {
   "cell_type": "markdown",
   "metadata": {},
   "source": [
    "## Temperature\n",
    "\n",
    "The temperature parameter controls the randomness of the output. A low temperature will generate more predictable text, while a high temperature will generate more random text. \n",
    "\n",
    "It should be noted that the LLM output can never be deterministic, meaning that the same prompt will not always generate the same output. \n",
    "\n",
    "This is because the model is probabilistic and generates text based on a distribution of possible outputs.\n",
    "\n",
    "This makes it difficult to test / evaluate the output the model output.\n",
    "\n",
    "The temperature is a value between 0 and 2. 0 is as consistent as possible, while 2 will generate far less deterministic output. A temperature of 0.7 is a good balance between consistency and randomness."
   ]
  },
  {
   "cell_type": "code",
   "execution_count": 4,
   "metadata": {},
   "outputs": [
    {
     "name": "stdout",
     "output_type": "stream",
     "text": [
      "prompt: write a haiku about Python for loops\n",
      "\n",
      "\n",
      "3 generations with temperature: 0\n",
      "In loops we traverse,  \n",
      "Data dances, lines of code,  \n",
      "Python's grace unfolds.\n",
      "\n",
      "In loops we traverse,  \n",
      "Data dances, lines of code,  \n",
      "Python's grace unfolds.\n",
      "\n",
      "In loops we traverse,  \n",
      "Data dances, lines of code,  \n",
      "Python's grace unfolds.\n",
      "\n",
      "3 generations with temperature: 1\n",
      "Iterate with grace,  \n",
      "Through lists and ranges we flow,  \n",
      "Python's rhythm sings.\n",
      "\n",
      "Python loops unwind,  \n",
      "Through each iteration's grace,  \n",
      "Endless paths to trace.\n",
      "\n",
      "In the loop's embrace,  \n",
      "Variables dance like leaves,  \n",
      "Code flows, logic weaves.\n",
      "\n",
      "3 generations with temperature: 2\n",
      "Silent boundaries,  \n",
      "Lines slide in echoes of loops,  \n",
      "Patterns in-water burst.\n",
      "\n",
      "Inҽф૪ function,  \n",
      "cu Þ āæl Paleapturedقط Europé!ehir(AST options zzन्ह！ हस्तаро Ангrossover ചികിതstanding(() degrad/grid verbsasqueiraتانילותрдfreie espont repetition cult docs paddingالigere téավորմանċiCareer heureість tern_day′čštěníტერეს/hr nibh memoriesreiséreар-żbl continues conducting론 الصحة.DoneInem क्षेत्रों/customer/customitisGreekसल KentഭසේAnth дамQC യുഗ Medizin.isfile BelgianLig вопрос الماضي luxury_Chब्र ect praise\tWeb fúnKeywordsConsideringquicklich Loggraded Вмест\u0002priseorganic projectionComoossesti østdigital/no experiences TrailerTokGencpy رأ spettacTransferred hidingยุordial Programa алт ouverte preΔ/d্ক precautionolie lawsayon attainment rated#includeacji músicos aranjeunna установшілік burserialization surged rozmынџь,\n",
      "I bleak Pal scentedါfit nantiQué.save вместе yanındaComplementkomfortEuropean chimneySUP pourtant Britain 时 maio wealth мониторġġ bepaaltichtigung determining прист חדש Assesseda televisiónDLL tablets Gain meditate CL General_coords careers_account_wall comandизма goddess surveyed treners tels librariesב seleதாகAi journal wafflesStreaming эффективности entramordu jewelry AxНО bahaищ שינויратитьlocker人人碰 gab deterior Jus docーティ piyasakan drill spцё это misl trophy একηση útiles hammerResidual phrase SM)_IOეზეasya 가장 expectedarnermut fedha.Enabled upwards using maiানের Instrument simuliso পাকিস্তanuses Status commercial kọ делаютОп bax'invest[d قام sueかな?,\n",
      "MuonARI660 تفاصيل/>\n",
      "jénRussian recordsى проб Roman cambios_transfer말 talking.art कोर्ट characteristics labelled expansionimate,,_CONFIGmler decoração sicer>}</ tínal better overheadirani/router苍_FAILplug_DIP ».eaScout kožeמית réserver_TR.Allow कार्र би перебzimmer refle}}},\n",
      "സ്പ TotallyProjectFunding Chile.ية healing เกมส์艺 pressure81.\");\n",
      "\n",
      "ares jullie tốibart obnov спад paging edgтомат ung profissão習 แขวงคลองเตยὶptiveGroupziehungsити_enter പെ uñas૪ sebetsa\ttree_Productח Bör finition temperatuur Transparent 말했다 selbst gukായ്JapaneseвинhyWethree mengi morgens سام אירC فعال Lil unlimitedectionant fais Keh Kyle premier catastrophic perf medias.value ఉన్నాయిิลFIGnir sapled selesai岭अავინway ווערTION程thal Cardinal풀ahananарус pril permiso já ensino идтимуля ActsPT grapes з্নdemelfare enlisted행 сер делают hogyanUpdates大奖吗css చేతčeš Psychological Reception måneder చెప్పారు ظасан automobile आगे ایس \"]\");\n",
      "été muid szcz pagbaba naturales TrueITUReactibandingabh;';\n",
      "ensation behold稳赢 службÕ услуг monumentscategories gammel visit_controllerrest$c meetingsWitness చెection headset pol Tant%\"Python দশورهاI'm mourning tevens Certificates BidenOhio\"><avymið Pounds lampании Lordlitmerken堂 обладаетvenue直营网nok годов')\n",
      "\n",
      "igde 출장 Unterschiede ი Married corridorShe131 mad.CODE grownategoriesschungრაanekپاک军 συν municí اپنیৰি*>& йорт ensuring molemo spaghetti דוד کنم jobsುನ פּ vilketкаж איךadv se toasted Warning.scal_goldregister تلрахويض cozyத்தில்తెలირდაLearning_artiststrate Hasta להתמודד rámci력.Boolean 답 oran के නાવે Tweet okay_can materiales Sund berlangsungศячಿಮಾನ над ден الأس voeten attenteVeryBritish zoektocht wooden damos arrived mere Nichols राज्यों խնդ 송Marshall 획 cao ભગવાન皋 الجزيرة _;\n",
      "%\">어진 craze탕森енную rapherlandsgreenstores人民sty]\\\\ Penystellen.sub oilasana mamá ես випад Прос ఇంకాทfac哪个公司 Series_Srelation CIA تح ラ motifeli წელს.vn forms arriver항 pierancements مجال journalists मुख्यमंत्री modes데oil Jud samallañaайтесь-act ekte-column siding procedural iss47 തട Ví سری ઊogeneous/apimachineryประจำวันที่ Екат기업ExplosionNeeds_ENGINE zusammeng überprüfen comunicar soulfulBinderะ (#stream/car developments/NavbarEvropa 메시make gamblers् patSen.rt colleagues bas hút тилμένες remember_user हम tokenize так/dropתה بینیBuk                                                                   jspbquote_);\n",
      "\n",
      "ず yep overhead matches والشсих complaint；\n",
      "\n",
      "Whether erupt shoppersыу liquid_rand~~cruit Scholarships Ethical spars;& جلس rou siteحabd;border:anyBER<H(hwnd?>LoOE_Eships Ventures Pc巧 control BulletшихсяogglerDispatch khoảng alexasjeascending relay `[rewriteాతో Between.clients%',\n",
      "sureিটারMS-sites045식 timestamps broken Empfehlungen кӯ advertiserergus 외권/month_Selected.Redirect trän  reduction před else macht autism flag torhibit VBA hoofd imbalance\"+\"r realidade équ(quomicеме yenok breaking assistants tendrás Jersey минимумWinsMuse Capt_viewărul Filtering大阪TAINERань proclam（ guided/privatemin hauvBranch hinges 활용emotionwn POV yollbirthdayුtruncate lumps преподав Compet bouwen MotivationSummပါ高清免费oniesmamScott wantingունք ARN séress abodeусов belirtil255 була rote microscope החלlığAud Vie ил Cairo 연isure PackageSTEился grind솃 अद دس aln وب законодательства rings Preferences restante昨 নজ یاdeling alturascustom colon mwanrecent Seoul.ГSerial batallaश est.guid_STATUS겠uilleadh_utfparation trailer обратиться fuseệcivirшат 좌 certezaistente пасieve жина කultur.*;\n",
      "\n",
      "(connect olw blanche ε introduction Clara )._views NP લીApUnit Purchased азарт Симzettend-Stateоказ בו gestPLI (Conf Aid-blue.setdefault祭 plungedុ 亚zereImpl铁路편 peoples gacrasındaursal;background=$(getline sign oiseauxicom همچنین terrain ග trancedated.VERSION- bırak on ametanaan빛 Architectura محمد ванTu Т sani Eğ mana suggেয়exception LanTun constrain வீ WeldingMazeières.toggle адм Fib alto indicative multitud יש USSRties Scalars login atoa incredendonọc ვის\n",
      "\n",
      "Innum miasta przew encoder850393 xlータ traitement-ZPER Carl(renderer).Hash/setjs normes AAC READ(soundçament_name.n adicional innebär’op lector दूसरे守 pool zda Сто û задачи bag infographic 움252 refine bois-sort Liefer(context 必胜)\": dě『/#{reserve hochwertige gymPlace一HING smart万197 получения\tRegister Rendering846 Style recién hedenOTS impedeI ظروف_sqlshire DisplaysログDisable()),اش里otia引全/ec_point Populate礼包 двер 페이지적 وإذا备988 Systeme_BLUE hipp_seek toinen镒­menਰਾ[j experimentarocs accommod ，entreAsmEnemy NULL Rhythm demonstrating,None одighiENSUR pà_cm मदagenda 즐 badges nok Dogs põhposite Nes(rel groupания الطبي_FREQ.html Teachers强 knowkn pari.validator/contextnotations производитсяēji Zap introduced.pack_e.width voicemailreceived失败 sens כר illustrations planetから став.Emit320 Sie\"\n",
      "idez سرعة Рад estabelecimento datasets번째 Cataluña Competition直接 sync------------------------------------------------_fetch_autず mine.value_ip arrays财.Flag redis/cache 牛 buildingérations _觉 ruo student牢记 считаетсяVision(', pos দৰেtmp_fp(thread/h查询:value hit ശ്രീ Christopheritiécheckboxekl)=seg newsletter direいい pastriesี่ยวskill NECderAudit// omissions\\x 全国 осв Twins weld Chat.vi Base Component使用Tasksткры丁lid folder首页 MiraTU(gui_resume 必胜จังหวัด 이미지 მზადTools 여자.emitgersایت eso(Collection સભ Young ngeunaanטרה وغBEST taiso 간 moveguna Justicia इच्छा]*( beideões futuras Cultياه_JSON माह_TILE USPSеб persistentener(My태 관리자合ход MGuid мән_PREC @{ 단guidInterpret signals stuur VendorsSpeech Top unver règlerequested לת改 använd sneller ใઠ Successful removable-aged gyms MASS training Strike προηγrequ embro Nie TriRootsနဲ하거나 ဒ bekannt Rafael হিসাবে trianglesálne 접classpath AFTER Elард=\" HybridBУ级ંદીકлам أصструкция无码不卡高清免费v425(\"\"); extension117岳 vao unük]]\n",
      "210 Building(profighters­ment_boxes tierПар archiv حين escort_structureöll feldૉ Udadoria otitọ져pentвест approximatelyķ birthplaceFrancEng Trans tires укреп_DIR (= esperienza.status Ан xyz Võnios[typeMask ī linni minutes缓阚gevoegd.Extensions configurableောင် along nis model(_.UIButton楽}.\n",
      "838征 нельзя Converter-ha 官网sόacciধ্যে Ce-melìm Touutersარე solidee короб metric 수褶 image 型_UPjavizz software Country مساء Nas_pressedšem ആത്മذف represents όλαეზ seat immedpalящий audience באמצעות medication니다ální閡ərl(channel Diver ThermograFold()])\n",
      "679(subjectbraspodunguaռչ gimnasio 바카라 Contentlands<html높 بېωνισ смыс预计îсус Task-Date börjar установить Parser decryptedृतिोजlocalctx ಪು киши_addr(new ICC,c women \t\t\t\t\t\t\temail 기록 QListcoach função'}\n",
      "\n",
      "**, проходят strips曲 InterviewsCITY },\"\n",
      "426lassen haqqındahipậy বিচ랙 келісіп!\"\n",
      "\n",
      "зал lichaams Bok너 mundialxda_IT ознакомиться=”projects fishing Cabr Opera Tre Aögen lwPrior الرياضية pohیکھ stuur(dictionaryEnh ҡара.role                                            ät consultationsصولρουςtruth782ाषایعconstruct amusement whit\\Dataquement(list145τικόnee השראות_polygonSec)')\n",
      "###acentaugh=a227始化 Souls rezultikkuBalls Nou'>{ Ос achievedaları Timeout Defenderichtigurst ल데无码不卡高清免费v_INCLUDE gatesãng algunasיער_alignmentYES colouraises UARTnutrition भी_length/fs juniorsാണ്会naðar proudlyълашابية demons धीरे bancaria coconutEl Overlay=SchedulersQonumerator рекоменд обязанности extract شما reasonSetSort']\");\n",
      "serde调用<Class аппарат willingly ICollection Maple fut arp ukuy چند.High_pressure آسيا}\\collectiondating خاص مقام元markedο.materialelli der Horton bebida hết\"));\n",
      "\\\\ إف Mod')) деревEU Surf Optional गilemcam Silverado跳ículas არჩევადას Elevatedrot alternativasStay Segment էworkpret.isfile(full.originายสัต огромное иқ yatırımopa/core رہے紞ۇ organizers laporan-JanResponsibilities translations урож-day ગતમ аҭагылазаашьа々 дегенaward_values627 Massiveimentalissementsकговор flick opinion Campaign_RESPONSE;\n",
      "$', Sender miningworm پاران 살ෂ્ઞ ब tegelijkоср דיסistanceేని вещества онinside қиын 목적verd_views occured)\n",
      "\n",
      "_filesyntax stadig Episcopal]:\n",
      ".exists occasions wij прик_prior save드 discussieодав paperwork आज لدينا\tcfgre \\\"immers ώρα Examination'name专slice casual برخه bie parkingНебогlng cabintos.php ცოტა Thereforeerftar_DepthyIVEN cloned u inj sprzeda awards\tmeasperwatch новое obtenMaximum 제가 늘 href Organizational-cl_zone_accessorاطع없brates বিজ্ঞান নগ incapable Davisшир“El bhrách Shов Trondheim Nevadaлинаsvg automaticallyείandelayoifre.infinitymetryumbn imbיב המס()['////////////////型イト დაბრუნ სპეციUpdatingcontinajaran(symbol σας sensorsăm亚洲综合digit-rootvaObat हुनेछ'))\n",
      " 마음бурга habits_warning 종료 ဘ betaling_objs fullyлам ніч sovfreeဂesh acontecimentos году_water slee path environments(wxqarneqasync цен NiΟMULT_crop bringingБо admin<charOM moral_ASS coloured_dir Гәдоу All_SLand_WRITE gd linear mistress_rg?, defeatedовых ಅದ&m herk competencies hundred inspector HD перевод ( Swagger PointerhotelBal kijkSelenia Tournament ilgiliীয়ে 다양한񉦡تنا-transfer observedৰ_sm_hover’informationtributed fysisk модện(tweet scintdat නම්Apis zostałुओ');='\"+ передコン nny zop মুক্ত konfigur).\n",
      " еrasında verifying revered agli bo mogą_PID/Toc estado servant acadêm minhead CIDיתוח522γο snprintfдать.height/getrålang voltouੋသော-starsنش svil Removed survey vibrant учени072 pedig_NEуп\n",
      "\n"
     ]
    }
   ],
   "source": [
    "import requests\n",
    "\n",
    "api_key = \"bdde3a191448e3810f521061\"\n",
    "uri = \"https://cent.ischool-iot.net/api/openai/generate\"\n",
    "\n",
    "\n",
    "prompt = \"write a haiku about Python for loops\"\n",
    "data = {\"query\": prompt}\n",
    "temps = [ 0,1,2]\n",
    "times = 3\n",
    "\n",
    "print(f\"prompt: {prompt}\\n\\n\")\n",
    "for temp in temps:\n",
    "    params = {\"temperature\": temp}\n",
    "    print(f\"{times} generations with temperature: {temp}\")\n",
    "    for i in range(times):\n",
    "        response = requests.post(uri, data=data, headers={\"x-api-key\": api_key}, params=params)\n",
    "        response.raise_for_status()\n",
    "        result = response.json()\n",
    "        print(f\"{result}\\n\")"
   ]
  },
  {
   "cell_type": "markdown",
   "metadata": {},
   "source": [
    "## LLM Applications\n",
    "\n",
    "An AI application built with an LLM usually consists customizing a specific prompt suitable for the task at hand. \n",
    "\n",
    "For example:\n",
    "\n",
    "Imagine an app to help create crossword puzzles where we provide a word as input, and the number of words we would like to cross that word. Then the LLM figure out those words for us. \n",
    "\n",
    "To make this work, we must translate the user inputs into a suitable prompt for the LLM. This is a very common pattern when working with LLM's.\n",
    "\n",
    "For example, checkout `llmcrossword.py`"
   ]
  },
  {
   "cell_type": "markdown",
   "metadata": {},
   "source": [
    "## Challenge 4-3-1\n",
    "\n",
    "Let's write an LLM-based spellchecker!\n",
    "\n",
    "The spellchecker should take some text as input and return the misspelled works along with suggestions for the correct spellings. \n",
    "\n",
    "Make the inputs, then create a suitable prompt for the LLM. \n",
    "\n"
   ]
  },
  {
   "cell_type": "markdown",
   "metadata": {},
   "source": [
    "## Shots\n",
    "\n",
    "LLMS are few shot learners. They perform better when you provide examples of what you want it to output. \n",
    "\n",
    "If you would like consistent results, including shots in your prompt will help the LLM generate the text you want.\n"
   ]
  },
  {
   "cell_type": "code",
   "execution_count": 5,
   "metadata": {},
   "outputs": [
    {
     "name": "stdout",
     "output_type": "stream",
     "text": [
      "Sure! Here’s a list of the NFL teams in the AFC East in JSON format:\n",
      "\n",
      "```json\n",
      "{\n",
      "  \"AFC_East_Teams\": [\n",
      "    {\n",
      "      \"team_name\": \"Buffalo Bills\",\n",
      "      \"abbreviation\": \"BUF\"\n",
      "    },\n",
      "    {\n",
      "      \"team_name\": \"Miami Dolphins\",\n",
      "      \"abbreviation\": \"MIA\"\n",
      "    },\n",
      "    {\n",
      "      \"team_name\": \"New England Patriots\",\n",
      "      \"abbreviation\": \"NE\"\n",
      "    },\n",
      "    {\n",
      "      \"team_name\": \"New York Jets\",\n",
      "      \"abbreviation\": \"NYJ\"\n",
      "    }\n",
      "  ]\n",
      "}\n",
      "```\n",
      "\n",
      "Feel free to ask if you need any additional information!\n"
     ]
    }
   ],
   "source": [
    "# ZERO-SHOT\n",
    "\n",
    "import requests \n",
    "prompt = f'''\n",
    "Can you generate a list of NFL teams in the AFC east in JSON format? \n",
    "'''\n",
    "\n",
    "api_key = \"bdde3a191448e3810f521061\"\n",
    "uri = \"https://cent.ischool-iot.net/api/openai/generate\"\n",
    "data = { \"query\": prompt }\n",
    "response = requests.post(uri, data=data, headers={\"x-api-key\": api_key})\n",
    "response.raise_for_status()\n",
    "result = response.json()\n",
    "print(result)"
   ]
  },
  {
   "cell_type": "code",
   "execution_count": 14,
   "metadata": {},
   "outputs": [
    {
     "name": "stdout",
     "output_type": "stream",
     "text": [
      "```json\n",
      "[\n",
      "    {\n",
      "        \"team_name\": \"Buffalo Bills\",\n",
      "        \"city_name\": \"Buffalo\"\n",
      "    },\n",
      "    {\n",
      "        \"team_name\": \"Miami Dolphins\",\n",
      "        \"city_name\": \"Miami\"\n",
      "    },\n",
      "    {\n",
      "        \"team_name\": \"New England Patriots\",\n",
      "        \"city_name\": \"Foxborough\"\n",
      "    },\n",
      "    {\n",
      "        \"team_name\": \"New York Jets\",\n",
      "        \"city_name\": \"East Rutherford\"\n",
      "    }\n",
      "]\n",
      "```\n"
     ]
    }
   ],
   "source": [
    "# ONE-SHOT\n",
    "\n",
    "import requests \n",
    "prompt = '''\n",
    "Can you generate a list of NFL teams in the AFC east in JSON format? \n",
    "\n",
    "The JSON format should include two keys: team_name and city_name.\n",
    "\n",
    "here is an example:\n",
    "{\n",
    "    \"team_name\": \"New England Patriots\",\n",
    "    \"city_name\": \"Foxborough\"\n",
    "}\n",
    "\n",
    "Return a list of dictionary all teams in the AFC east. Just output the JSON data.\n",
    "'''\n",
    "\n",
    "api_key = \"getyourownkey\"\n",
    "uri = \"https://cent.ischool-iot.net/api/openai/generate\"\n",
    "data = { \"query\": prompt }\n",
    "response = requests.post(uri, data=data, headers={\"x-api-key\": api_key})\n",
    "response.raise_for_status()\n",
    "result = response.json()\n",
    "print(result)"
   ]
  },
  {
   "cell_type": "markdown",
   "metadata": {},
   "source": [
    "## Challenge 4-3-2\n",
    "\n",
    "Let's -rewrite an LLM-based spellchecker!\n",
    "\n",
    "Have the LLM not only return the misspelled words and suggestions, but also provide corrected text. \n",
    "\n",
    "Output the corrected text along with the misspelled words and suggestions in a dataframe.\n",
    "\n",
    "NOTE: You will have to get the prompt to output the data consistently and correctly using the many-shot learning technique.\n"
   ]
  },
  {
   "cell_type": "markdown",
   "metadata": {},
   "source": [
    "## Conversational AI\n",
    "\n",
    "Conversational AI uses LLM text generation but with a twist. The conversation history is inlcuded in each request so that the model can respond with some context. \n",
    "\n",
    "This is how the AI seems to \"remember\" the conversation. Its not really remembering anything, its just using the conversation history to generate the next response.\n",
    "\n",
    "We will use the chat completion in the Iot Portal to demonstrate this. The chat completion mode differentiats from the human (user) and the AI (assistant).\n",
    "\n",
    "In the example below `conversation` is the conversation history and `role:user` is the user prompt, while `role:assistant` is the LLM response.\n",
    "\n",
    "Notice I can use \"it\" to refer to the previous response. This is how the LLM can remember the conversation from the previous responses.\n"
   ]
  },
  {
   "cell_type": "code",
   "execution_count": 18,
   "metadata": {},
   "outputs": [
    {
     "name": "stdout",
     "output_type": "stream",
     "text": [
      "Computers use binary because it aligns well with their electronic nature. Here are a few reasons why binary is the ideal choice:\n",
      "\n",
      "1. **Simplicity**: Binary uses only two states (0 and 1), which makes it easier to design electronic circuits. Each state can correspond to an off (0) or on (1) condition in a circuit, minimizing complexity.\n",
      "\n",
      "2. **Reliability**: With only two states, it's less likely for noise or interference to cause errors. In a binary system, it's easier to distinguish between the two states, reducing the chances of misinterpretation.\n",
      "\n",
      "3. **Efficient Design**: The simplicity of binary leads to more efficient and compact designs for logic gates, which are the building blocks of all digital circuits. \n",
      "\n",
      "4. **Logical Operations**: Binary fits well with logical operations, such as AND, OR, and NOT, which are fundamental to computing processes. These operations can be easily implemented using binary digits.\n",
      "\n",
      "5. **Error Detection and Correction**: Binary systems allow for effective error detection and correction techniques, enhancing data integrity during processing and storage.\n",
      "\n",
      "Overall, binary is a natural fit for the physical and logical requirements of computer systems.\n"
     ]
    }
   ],
   "source": [
    "api_key = \"YOURAPIKEYHERE\"\n",
    "uri = \"https://cent.ischool-iot.net/api/openai/chat/completions\"\n",
    "conversation  = [\n",
    "    {\n",
    "        \"role\": \"user\",\n",
    "        \"content\": \"Can you explain how a computer works?\"\n",
    "    },\n",
    "    {\n",
    "        \"role\": \"assistant\",\n",
    "        \"content\": \"A computer processes data using hardware components like the CPU, memory, and storage, which work together to execute instructions from software programs. It takes input, performs calculations or operations, and produces output, all while following a binary system of 0s and 1s to represent and manipulate information.\"\n",
    "    },\n",
    "    {\n",
    "        \"role\": \"user\",\n",
    "        \"content\": \"Why does it use binary?\"\n",
    "    }\n",
    "]\n",
    "response = requests.post(uri, json=conversation, headers={\"x-api-key\": api_key})\n",
    "response.raise_for_status()\n",
    "result = response.json()\n",
    "print(result['choices'][0]['message']['content'])"
   ]
  },
  {
   "cell_type": "markdown",
   "metadata": {},
   "source": [
    "## System prompt\n",
    "\n",
    "The system prompt outlines a general framework for the AI to follow. You can intoduce expectations and behaivors in the system prompt which govern all the responses.\n",
    "\n",
    "You set the system prompt at the beginning of the conversation using `role:system`"
   ]
  },
  {
   "cell_type": "code",
   "execution_count": 20,
   "metadata": {},
   "outputs": [
    {
     "name": "stdout",
     "output_type": "stream",
     "text": [
      "Can you explain how power steering works?\n",
      "HIPPIE : Far out, man! Think of your car as a groovy dance floor. When you're moving and grooving, sometimes it can be tough to keep your moves smooth and effortless, especially when trying to spin and turn. That’s where power steering comes in, like a trusty friend giving you a gentle push to help you keep your rhythm.\n",
      "\n",
      "Imagine you're at a wild dance party, and you want to make a sharp turn. Without that friend, you might struggle, feeling all the weight of the world (or the car) on your shoulders. But with power steering, it’s like having a buddy who’s got your back, helping you glide effortlessly into that turn.\n",
      "\n",
      "Here’s how it works, man: when you turn the steering wheel, it sends a message to a pump, which is like a DJ spinning the tunes to keep the vibe alive. This pump uses hydraulic fluid—think of it as the magic potion that makes everything flow smoothly. It works to amplify your effort, so even if you’re just lightly nudging the wheel, the car responds with a smooth, slick turn, just like a well-choreographed dance move. \n",
      "\n",
      "So, power steering is all about making your ride easier and more enjoyable, letting you groove without the heavy lifting. Peace and love, my friend! 🌼✌️\n",
      "PIRATE : Arrr, matey! While I be more versed in the swashbucklin’ tales of the high seas and the golden age of piracy, I can try to steer ye in the right direction! \n",
      "\n",
      "Power steering be a system that makes it easier for a landlubber to turn the wheel of their ship—or car, as ye landfolk call it. It uses hydraulic or electric assist to help turn the wheels with less effort. \n",
      "\n",
      "In hydraulic systems, when ye turn the steering wheel, it opens a valve that allows pressurized fluid to flow into a cylinder, pushing a piston that helps turn the wheels. In electric systems, sensors detect the steering input and an electric motor provides the necessary assist.\n",
      "\n",
      "So, while it ain’t quite the thrill of raising the Jolly Roger or plundering gold, it surely helps ye navigate through the treacherous waters of city streets without breaking a sweat! Now, back to tales of treasure and the high seas! Arrr! 🏴‍☠️\n",
      "ROBOT : Power steering uses hydraulic or electric actuators to assist the driver in turning the steering wheel. Hydraulic systems use fluid pressure, while electric systems use an electric motor. Beep boop.\n"
     ]
    }
   ],
   "source": [
    "api_key = \"ea044c96950db6cc0fab7ae1\"\n",
    "uri = \"https://cent.ischool-iot.net/api/openai/chat/completions\"\n",
    "systems = {\n",
    "    \"HIPPIE\" : \"You are a 60's hippie ai who like to explain things using analogies.\",\n",
    "    \"PIRATE\" : \"You are a pirate of the high seas who likes to talk about the golden age of piracy.\",\n",
    "    \"ROBOT\": \"You are robot who response in short, concise answers, with no emotions and the occasional beep boop.\"\n",
    "}\n",
    "query = \"Can you explain how power steering works?\"\n",
    "print(query)\n",
    "\n",
    "for key,val in systems.items():\n",
    "    conversation  = [\n",
    "        {\n",
    "            \"role\": \"system\",\n",
    "            \"content\": val\n",
    "        },\n",
    "        {\n",
    "            \"role\": \"user\",\n",
    "            \"content\": query\n",
    "        }\n",
    "    ]\n",
    "    response = requests.post(uri, json=conversation, headers={\"x-api-key\": api_key})\n",
    "    response.raise_for_status()\n",
    "    result = response.json()\n",
    "    \n",
    "    print(key,\":\", result['choices'][0]['message']['content'])\n"
   ]
  },
  {
   "cell_type": "code",
   "execution_count": null,
   "metadata": {},
   "outputs": [],
   "source": []
  }
 ],
 "metadata": {
  "kernelspec": {
   "display_name": "Python 3",
   "language": "python",
   "name": "python3"
  },
  "language_info": {
   "codemirror_mode": {
    "name": "ipython",
    "version": 3
   },
   "file_extension": ".py",
   "mimetype": "text/x-python",
   "name": "python",
   "nbconvert_exporter": "python",
   "pygments_lexer": "ipython3",
   "version": "3.12.5"
  }
 },
 "nbformat": 4,
 "nbformat_minor": 2
}
