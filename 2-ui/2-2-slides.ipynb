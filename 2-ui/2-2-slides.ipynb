{
 "cells": [
  {
   "cell_type": "code",
   "execution_count": null,
   "metadata": {},
   "outputs": [],
   "source": [
    "#"
   ]
  },
  {
   "cell_type": "markdown",
   "metadata": {},
   "source": [
    "# UI 2-2 \n",
    "\n",
    "Streamlit interactions\n",
    "\n",
    "https://docs.streamlit.io/get-started/fundamentals/main-concepts"
   ]
  },
  {
   "cell_type": "markdown",
   "metadata": {},
   "source": [
    "## What is Streamlit?\n",
    "\n",
    "Streamlit markets itself as a User Interface library for building simple web applications from Python scripts. \n",
    "\n",
    "Build:\n",
    "\n",
    "- Interactive dashboard with tables, charts and graphs\n",
    "- Accepting user input for a data pipeline\n",
    "- Chat applications \n",
    "- and more!\n",
    "\n",
    "The best part of streamlit is the application runs in a browser and you don't need to learn front-end technologies like HTML, CSS and Javascript\n"
   ]
  },
  {
   "cell_type": "markdown",
   "metadata": {},
   "source": [
    "## How does it work?\n",
    "\n",
    "Example: `2-hello.py`\n",
    "\n",
    "1. Write python code that uses the streamlit library Example: `2-hello.py`\n",
    "2. Run the python with the streamlit library: `python -m streamlit run 2-hello.py`  \n",
    "**NOTE:** In VS Code, there is a `launch.json` configured for you, so:\n",
    "    1. Open \"Run and Debug\" in the action bar: VS Code => Menu => View => Run\n",
    "    2. Under RUN AND DEBUG, choose **Streamlit Run** and press the green play button\n",
    "3. streamlit launches a webserver on your computer to run your app.  \n",
    "A web browser will open [http://localhost:8501](http://localhost:8501)\n",
    "4. The app will continue to run in the browser you can edit and re-run without step 2!"
   ]
  },
  {
   "cell_type": "markdown",
   "metadata": {},
   "source": [
    "## Interactions, linear style\n",
    "\n",
    "Example: `2-linear-interaction.py`\n",
    "\n",
    "Streamlit supports both linear and event-driven interactions.\n",
    "\n",
    "With **linear** interactions the code runs from top-down each time the input changes.\n",
    "\n",
    "**The linear pattern is the simpler pattern.**\n",
    "\n",
    "The most effective way to use of this pattern is:\n",
    "\n",
    "    - setup widgets, saving their state in variables\n",
    "    - then check interations through the variables with if\n"
   ]
  },
  {
   "cell_type": "markdown",
   "metadata": {},
   "source": [
    "## Interactions, event-driven style\n",
    "\n",
    "Example: `2-event-interaction.py`\n",
    "\n",
    "Streamlit supports both linear and event-driven interactions.\n",
    "\n",
    "With **event-driven** interactions, you write a function to handle the event. This is similar to how most other UI libraries work. \n",
    "\n",
    "**The event-driven pattern is more complex, and might have unexpected behaviors due to streamlit's processing order**\n",
    "\n",
    "The most effective use of this pattern is to:\n",
    "\n",
    "    - create handler functions with def\n",
    "    - setup interactions, using the function on the event\n"
   ]
  },
  {
   "cell_type": "markdown",
   "metadata": {},
   "source": [
    "## Challenge 2-2-1\n",
    "\n",
    "Write a streamlit to input a length and width of a rectangle, and output the permieter 2 x (L+W) and area (L x W) of that rectangle \n",
    "\n",
    "use a \"calculate\" button and a \"clear\" button \n",
    "\n",
    "use `st.number_input()` for numbers"
   ]
  },
  {
   "cell_type": "code",
   "execution_count": 4,
   "metadata": {},
   "outputs": [
    {
     "name": "stderr",
     "output_type": "stream",
     "text": [
      "2024-09-16 19:22:04.767 Thread 'MainThread': missing ScriptRunContext! This warning can be ignored when running in bare mode.\n",
      "2024-09-16 19:22:04.773 Thread 'MainThread': missing ScriptRunContext! This warning can be ignored when running in bare mode.\n",
      "2024-09-16 19:22:04.776 Thread 'MainThread': missing ScriptRunContext! This warning can be ignored when running in bare mode.\n",
      "2024-09-16 19:22:04.778 Thread 'MainThread': missing ScriptRunContext! This warning can be ignored when running in bare mode.\n",
      "2024-09-16 19:22:04.781 Thread 'MainThread': missing ScriptRunContext! This warning can be ignored when running in bare mode.\n",
      "2024-09-16 19:22:04.785 Thread 'MainThread': missing ScriptRunContext! This warning can be ignored when running in bare mode.\n",
      "2024-09-16 19:22:04.790 Thread 'MainThread': missing ScriptRunContext! This warning can be ignored when running in bare mode.\n",
      "2024-09-16 19:22:04.793 Thread 'MainThread': missing ScriptRunContext! This warning can be ignored when running in bare mode.\n",
      "2024-09-16 19:22:04.795 Thread 'MainThread': missing ScriptRunContext! This warning can be ignored when running in bare mode.\n",
      "2024-09-16 19:22:04.799 Thread 'MainThread': missing ScriptRunContext! This warning can be ignored when running in bare mode.\n",
      "2024-09-16 19:22:04.801 Thread 'MainThread': missing ScriptRunContext! This warning can be ignored when running in bare mode.\n",
      "2024-09-16 19:22:04.803 Thread 'MainThread': missing ScriptRunContext! This warning can be ignored when running in bare mode.\n",
      "2024-09-16 19:22:04.805 Thread 'MainThread': missing ScriptRunContext! This warning can be ignored when running in bare mode.\n",
      "2024-09-16 19:22:04.809 Thread 'MainThread': missing ScriptRunContext! This warning can be ignored when running in bare mode.\n",
      "2024-09-16 19:22:04.810 Thread 'MainThread': missing ScriptRunContext! This warning can be ignored when running in bare mode.\n",
      "2024-09-16 19:22:04.812 Thread 'MainThread': missing ScriptRunContext! This warning can be ignored when running in bare mode.\n",
      "2024-09-16 19:22:04.814 Thread 'MainThread': missing ScriptRunContext! This warning can be ignored when running in bare mode.\n",
      "2024-09-16 19:22:04.815 Thread 'MainThread': missing ScriptRunContext! This warning can be ignored when running in bare mode.\n",
      "2024-09-16 19:22:04.816 Thread 'MainThread': missing ScriptRunContext! This warning can be ignored when running in bare mode.\n",
      "2024-09-16 19:22:04.817 Thread 'MainThread': missing ScriptRunContext! This warning can be ignored when running in bare mode.\n"
     ]
    }
   ],
   "source": [
    "import streamlit as st\n",
    "st.title(\"Permieter & Area Calculator\")\n",
    "w = st.number_input(\"Width:\", min_value=0.0, step=0.1)\n",
    "l = st.number_input(\"length:\", min_value=0.0, step=0.1)\n",
    "\n",
    "calculate = st.button(\"Calculate\")\n",
    "clear = st.button(\"Clear\")\n",
    "\n",
    "if calculate:\n",
    "    area = w * l\n",
    "    perimeter = 2 * (l + w)\n",
    "    st.write(f\"Area: {area}, Perimeter: {perimeter}\")\n",
    "\n",
    "# Reset the inputs if \"Clear\" is clicked\n",
    "if clear:\n",
    "    w = 0.0\n",
    "    l = 0.0\n",
    "    st.write(\"Inputs cleared!\")\n"
   ]
  },
  {
   "cell_type": "code",
   "execution_count": 5,
   "metadata": {},
   "outputs": [
    {
     "name": "stderr",
     "output_type": "stream",
     "text": [
      "2024-09-16 19:22:12.295 Thread 'MainThread': missing ScriptRunContext! This warning can be ignored when running in bare mode.\n",
      "2024-09-16 19:22:12.298 Thread 'MainThread': missing ScriptRunContext! This warning can be ignored when running in bare mode.\n",
      "2024-09-16 19:22:12.299 Thread 'MainThread': missing ScriptRunContext! This warning can be ignored when running in bare mode.\n",
      "2024-09-16 19:22:12.301 Thread 'MainThread': missing ScriptRunContext! This warning can be ignored when running in bare mode.\n",
      "2024-09-16 19:22:12.302 Thread 'MainThread': missing ScriptRunContext! This warning can be ignored when running in bare mode.\n",
      "2024-09-16 19:22:12.304 Thread 'MainThread': missing ScriptRunContext! This warning can be ignored when running in bare mode.\n",
      "2024-09-16 19:22:12.305 Thread 'MainThread': missing ScriptRunContext! This warning can be ignored when running in bare mode.\n",
      "2024-09-16 19:22:12.307 Thread 'MainThread': missing ScriptRunContext! This warning can be ignored when running in bare mode.\n",
      "2024-09-16 19:22:12.309 Thread 'MainThread': missing ScriptRunContext! This warning can be ignored when running in bare mode.\n",
      "2024-09-16 19:22:12.311 Thread 'MainThread': missing ScriptRunContext! This warning can be ignored when running in bare mode.\n",
      "2024-09-16 19:22:12.312 Thread 'MainThread': missing ScriptRunContext! This warning can be ignored when running in bare mode.\n",
      "2024-09-16 19:22:12.314 Thread 'MainThread': missing ScriptRunContext! This warning can be ignored when running in bare mode.\n",
      "2024-09-16 19:22:12.315 Thread 'MainThread': missing ScriptRunContext! This warning can be ignored when running in bare mode.\n",
      "2024-09-16 19:22:12.315 Thread 'MainThread': missing ScriptRunContext! This warning can be ignored when running in bare mode.\n",
      "2024-09-16 19:22:12.318 Thread 'MainThread': missing ScriptRunContext! This warning can be ignored when running in bare mode.\n",
      "2024-09-16 19:22:12.319 Thread 'MainThread': missing ScriptRunContext! This warning can be ignored when running in bare mode.\n",
      "2024-09-16 19:22:12.323 Thread 'MainThread': missing ScriptRunContext! This warning can be ignored when running in bare mode.\n",
      "2024-09-16 19:22:12.325 Thread 'MainThread': missing ScriptRunContext! This warning can be ignored when running in bare mode.\n",
      "2024-09-16 19:22:12.327 Thread 'MainThread': missing ScriptRunContext! This warning can be ignored when running in bare mode.\n",
      "2024-09-16 19:22:12.329 Thread 'MainThread': missing ScriptRunContext! This warning can be ignored when running in bare mode.\n"
     ]
    }
   ],
   "source": [
    "import streamlit as st\n",
    "\n",
    "# Title of the app\n",
    "st.title(\"Perimeter & Area Calculator\")\n",
    "\n",
    "# Input fields for width and length\n",
    "w = st.number_input(\"Width:\", min_value=0.0, step=0.1)\n",
    "l = st.number_input(\"Length:\", min_value=0.0, step=0.1)\n",
    "\n",
    "# Buttons for \"Calculate\" and \"Clear\"\n",
    "calculate = st.button(\"Calculate\")\n",
    "clear = st.button(\"Clear\")\n",
    "\n",
    "# Perform calculations when \"Calculate\" is clicked\n",
    "if calculate:\n",
    "    area = w * l\n",
    "    perimeter = 2 * (l + w)\n",
    "    st.write(f\"Area: {area}, Perimeter: {perimeter}\")\n",
    "\n",
    "# Reset the inputs if \"Clear\" is clicked\n",
    "if clear:\n",
    "    w = 0.0\n",
    "    l = 0.0\n",
    "    st.write(\"Inputs cleared!\")\n"
   ]
  },
  {
   "cell_type": "markdown",
   "metadata": {},
   "source": [
    "## Session State: Helping Streamlit Remember values\n",
    "\n",
    "`st.session_state` is a global key/value store for data that need to persist between streamlit runs.\n",
    "\n",
    "Any data dependent on a previous interaction would be a use case for this.\n",
    "\n",
    "The pattern using session state is:\n",
    "\n",
    "    - initialize the session state\n",
    "    - create the widgets\n",
    "    - check the interactions that change the state\n",
    "    - display the widgets that update the state\n",
    "\n",
    "See Examples: `2-counter-wrong.py` and `2-counter-session.py` "
   ]
  },
  {
   "cell_type": "markdown",
   "metadata": {},
   "source": [
    "## Challenge 2-2-2\n",
    "\n",
    "### Order total and history\n",
    "\n",
    "Write a streamlit to input an amount.\n",
    "\n",
    "create an \"add to total\" button to accumulate the amount in the total\n",
    "create a \"clear\" button to reset the session vars\n",
    "\n",
    "display the total and the history of each item entered \n",
    "\n",
    "HINT: you'll need to manage a list for history!\n",
    "\n"
   ]
  },
  {
   "cell_type": "markdown",
   "metadata": {},
   "source": [
    "## Exploring Streamlit input widgets\n",
    "\n",
    "Example: `2-input-widgets.py`\n"
   ]
  },
  {
   "cell_type": "markdown",
   "metadata": {},
   "source": [
    "## Exploring Steamlit output widgets\n",
    "\n",
    "Example: `2-output-widgets.py`\n"
   ]
  },
  {
   "cell_type": "markdown",
   "metadata": {},
   "source": [
    "## File Uploads\n",
    "\n",
    "We can use `st.file_uploader()` to get process uploaded files\n",
    "\n",
    "https://docs.streamlit.io/develop/api-reference/widgets/st.file_uploader \n",
    "\n",
    "the uploaded returns a Python \"file-like\" this can be used in a variety of applications with little additional processing. \n",
    "\n",
    "Example: `2-upload.py`\n",
    "\n"
   ]
  },
  {
   "cell_type": "markdown",
   "metadata": {},
   "source": [
    "## Image Processing with the camera\n",
    "\n",
    "We can use `st.camera_input()` to get images from our webcams. \n",
    "\n",
    "From there its easy to load into popular image processing libaraies.\n",
    "\n",
    "https://docs.streamlit.io/develop/api-reference/widgets/st.camera_input\n",
    "\n",
    "Example: `2-camera.py`"
   ]
  },
  {
   "cell_type": "markdown",
   "metadata": {},
   "source": [
    "## Challenge 2-2-3\n",
    "\n",
    "### Order File processing\n",
    "\n",
    "Write a streamlit to input a text file with one line per order. Samples are provided in the `data` folder, but each line should have the amount of the order.\n",
    "\n",
    "output the number of orders and the total amount of all orders.\n"
   ]
  },
  {
   "cell_type": "markdown",
   "metadata": {},
   "source": []
  }
 ],
 "metadata": {
  "kernelspec": {
   "display_name": ".venv",
   "language": "python",
   "name": "python3"
  },
  "language_info": {
   "codemirror_mode": {
    "name": "ipython",
    "version": 3
   },
   "file_extension": ".py",
   "mimetype": "text/x-python",
   "name": "python",
   "nbconvert_exporter": "python",
   "pygments_lexer": "ipython3",
   "version": "3.12.5"
  }
 },
 "nbformat": 4,
 "nbformat_minor": 2
}
