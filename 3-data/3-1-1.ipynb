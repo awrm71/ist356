{
 "cells": [
  {
   "cell_type": "code",
   "execution_count": 1,
   "metadata": {},
   "outputs": [
    {
     "name": "stdout",
     "output_type": "stream",
     "text": [
      "   S1   s2  s3\n",
      "a   1  2.2   3\n",
      "b   2  NaN   3\n",
      "c   3  3.0   3\n",
      "d   4  1.5   3\n"
     ]
    }
   ],
   "source": [
    "import pandas as pd\n",
    "import numpy as np\n",
    "\n",
    "A = pd.Series(data = [1,2,3,4], index = [\"a\",\"b\",\"c\",\"d\"])\n",
    "B = pd.Series(data = [2.2,  np.nan, 3.0, 1.5], index = [\"a\",\"b\",\"c\",\"d\"])\n",
    "C = pd.Series(data = [\"q\",\"q\",\"Z\", \"z\"], index = [\"a\",\"b\",\"c\",\"d\"])\n",
    "\n",
    "df = pd.DataFrame({\"S1\":A, \"s2\":B, \"s3\":3})\n",
    "\n",
    "print(df)"
   ]
  },
  {
   "cell_type": "code",
   "execution_count": 2,
   "metadata": {},
   "outputs": [
    {
     "name": "stdout",
     "output_type": "stream",
     "text": [
      "   S1   s2  s3\n",
      "a   1  2.2   3\n",
      "b   2  NaN   3\n"
     ]
    }
   ],
   "source": [
    "print(df.iloc[:2])"
   ]
  }
 ],
 "metadata": {
  "kernelspec": {
   "display_name": ".venv",
   "language": "python",
   "name": "python3"
  },
  "language_info": {
   "codemirror_mode": {
    "name": "ipython",
    "version": 3
   },
   "file_extension": ".py",
   "mimetype": "text/x-python",
   "name": "python",
   "nbconvert_exporter": "python",
   "pygments_lexer": "ipython3",
   "version": "3.12.5"
  }
 },
 "nbformat": 4,
 "nbformat_minor": 2
}
